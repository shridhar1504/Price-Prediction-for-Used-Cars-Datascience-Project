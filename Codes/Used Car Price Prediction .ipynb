{
 "cells": [
  {
   "cell_type": "markdown",
   "id": "5d34871f",
   "metadata": {},
   "source": [
    "# Car Price Prediction "
   ]
  },
  {
   "cell_type": "markdown",
   "id": "674dacc3",
   "metadata": {},
   "source": [
    "***\n",
    "_**Importing the required libraries & packages**_\n"
   ]
  },
  {
   "cell_type": "code",
   "execution_count": 1,
   "id": "8b40b68e",
   "metadata": {},
   "outputs": [],
   "source": [
    "import datetime\n",
    "import os\n",
    "import numpy as np\n",
    "import pandas as pd\n",
    "import matplotlib.pyplot as plt\n",
    "%matplotlib inline\n",
    "import seaborn as sns\n",
    "from math import sqrt\n",
    "from sklearn.preprocessing import StandardScaler\n",
    "from sklearn.model_selection import train_test_split,GridSearchCV\n",
    "from sklearn.linear_model import LinearRegression,Lasso,Ridge\n",
    "from sklearn.ensemble import RandomForestRegressor, ExtraTreesRegressor, AdaBoostRegressor\n",
    "from sklearn.metrics import r2_score, mean_absolute_error, mean_squared_error\n",
    "from catboost import CatBoostRegressor\n",
    "from xgboost import XGBRegressor\n",
    "from lightgbm import LGBMRegressor\n",
    "import pickle \n",
    "import warnings\n",
    "warnings.filterwarnings('ignore')"
   ]
  },
  {
   "cell_type": "markdown",
   "id": "ddf4145c",
   "metadata": {},
   "source": [
    "_**Changing The Default Working Directory Path & Reading the Dataset using Pandas Command**_"
   ]
  },
  {
   "cell_type": "code",
   "execution_count": 2,
   "id": "06e06a20",
   "metadata": {},
   "outputs": [],
   "source": [
    "os.chdir('C:\\\\Users\\\\Shridhar\\\\Desktop\\\\DS Project')\n",
    "df = pd.read_csv('dataset.csv')"
   ]
  },
  {
   "cell_type": "markdown",
   "id": "35001f02",
   "metadata": {},
   "source": [
    "## Data Cleaning"
   ]
  },
  {
   "cell_type": "markdown",
   "id": "4feed88a",
   "metadata": {},
   "source": [
    "_**Viewing the dataset for identifying the unwanted columns**_"
   ]
  },
  {
   "cell_type": "code",
   "execution_count": 3,
   "id": "47a0338a",
   "metadata": {
    "scrolled": false
   },
   "outputs": [
    {
     "data": {
      "text/html": [
       "<div>\n",
       "<style scoped>\n",
       "    .dataframe tbody tr th:only-of-type {\n",
       "        vertical-align: middle;\n",
       "    }\n",
       "\n",
       "    .dataframe tbody tr th {\n",
       "        vertical-align: top;\n",
       "    }\n",
       "\n",
       "    .dataframe thead th {\n",
       "        text-align: right;\n",
       "    }\n",
       "</style>\n",
       "<table border=\"1\" class=\"dataframe\">\n",
       "  <thead>\n",
       "    <tr style=\"text-align: right;\">\n",
       "      <th></th>\n",
       "      <th>Unnamed: 0</th>\n",
       "      <th>Name</th>\n",
       "      <th>Location</th>\n",
       "      <th>Year</th>\n",
       "      <th>Kilometers_Driven</th>\n",
       "      <th>Fuel_Type</th>\n",
       "      <th>Transmission</th>\n",
       "      <th>Owner_Type</th>\n",
       "      <th>Mileage</th>\n",
       "      <th>Engine</th>\n",
       "      <th>Power</th>\n",
       "      <th>Seats</th>\n",
       "      <th>New_Price</th>\n",
       "      <th>Price</th>\n",
       "    </tr>\n",
       "  </thead>\n",
       "  <tbody>\n",
       "    <tr>\n",
       "      <th>0</th>\n",
       "      <td>0</td>\n",
       "      <td>Maruti Wagon R LXI CNG</td>\n",
       "      <td>Mumbai</td>\n",
       "      <td>2010</td>\n",
       "      <td>72000</td>\n",
       "      <td>CNG</td>\n",
       "      <td>Manual</td>\n",
       "      <td>First</td>\n",
       "      <td>26.6 km/kg</td>\n",
       "      <td>998 CC</td>\n",
       "      <td>58.16 bhp</td>\n",
       "      <td>5.0</td>\n",
       "      <td>NaN</td>\n",
       "      <td>1.75</td>\n",
       "    </tr>\n",
       "    <tr>\n",
       "      <th>1</th>\n",
       "      <td>1</td>\n",
       "      <td>Hyundai Creta 1.6 CRDi SX Option</td>\n",
       "      <td>Pune</td>\n",
       "      <td>2015</td>\n",
       "      <td>41000</td>\n",
       "      <td>Diesel</td>\n",
       "      <td>Manual</td>\n",
       "      <td>First</td>\n",
       "      <td>19.67 kmpl</td>\n",
       "      <td>1582 CC</td>\n",
       "      <td>126.2 bhp</td>\n",
       "      <td>5.0</td>\n",
       "      <td>NaN</td>\n",
       "      <td>12.50</td>\n",
       "    </tr>\n",
       "    <tr>\n",
       "      <th>2</th>\n",
       "      <td>2</td>\n",
       "      <td>Honda Jazz V</td>\n",
       "      <td>Chennai</td>\n",
       "      <td>2011</td>\n",
       "      <td>46000</td>\n",
       "      <td>Petrol</td>\n",
       "      <td>Manual</td>\n",
       "      <td>First</td>\n",
       "      <td>18.2 kmpl</td>\n",
       "      <td>1199 CC</td>\n",
       "      <td>88.7 bhp</td>\n",
       "      <td>5.0</td>\n",
       "      <td>8.61 Lakh</td>\n",
       "      <td>4.50</td>\n",
       "    </tr>\n",
       "    <tr>\n",
       "      <th>3</th>\n",
       "      <td>3</td>\n",
       "      <td>Maruti Ertiga VDI</td>\n",
       "      <td>Chennai</td>\n",
       "      <td>2012</td>\n",
       "      <td>87000</td>\n",
       "      <td>Diesel</td>\n",
       "      <td>Manual</td>\n",
       "      <td>First</td>\n",
       "      <td>20.77 kmpl</td>\n",
       "      <td>1248 CC</td>\n",
       "      <td>88.76 bhp</td>\n",
       "      <td>7.0</td>\n",
       "      <td>NaN</td>\n",
       "      <td>6.00</td>\n",
       "    </tr>\n",
       "    <tr>\n",
       "      <th>4</th>\n",
       "      <td>4</td>\n",
       "      <td>Audi A4 New 2.0 TDI Multitronic</td>\n",
       "      <td>Coimbatore</td>\n",
       "      <td>2013</td>\n",
       "      <td>40670</td>\n",
       "      <td>Diesel</td>\n",
       "      <td>Automatic</td>\n",
       "      <td>Second</td>\n",
       "      <td>15.2 kmpl</td>\n",
       "      <td>1968 CC</td>\n",
       "      <td>140.8 bhp</td>\n",
       "      <td>5.0</td>\n",
       "      <td>NaN</td>\n",
       "      <td>17.74</td>\n",
       "    </tr>\n",
       "  </tbody>\n",
       "</table>\n",
       "</div>"
      ],
      "text/plain": [
       "   Unnamed: 0                              Name    Location  Year  \\\n",
       "0           0            Maruti Wagon R LXI CNG      Mumbai  2010   \n",
       "1           1  Hyundai Creta 1.6 CRDi SX Option        Pune  2015   \n",
       "2           2                      Honda Jazz V     Chennai  2011   \n",
       "3           3                 Maruti Ertiga VDI     Chennai  2012   \n",
       "4           4   Audi A4 New 2.0 TDI Multitronic  Coimbatore  2013   \n",
       "\n",
       "   Kilometers_Driven Fuel_Type Transmission Owner_Type     Mileage   Engine  \\\n",
       "0              72000       CNG       Manual      First  26.6 km/kg   998 CC   \n",
       "1              41000    Diesel       Manual      First  19.67 kmpl  1582 CC   \n",
       "2              46000    Petrol       Manual      First   18.2 kmpl  1199 CC   \n",
       "3              87000    Diesel       Manual      First  20.77 kmpl  1248 CC   \n",
       "4              40670    Diesel    Automatic     Second   15.2 kmpl  1968 CC   \n",
       "\n",
       "       Power  Seats  New_Price  Price  \n",
       "0  58.16 bhp    5.0        NaN   1.75  \n",
       "1  126.2 bhp    5.0        NaN  12.50  \n",
       "2   88.7 bhp    5.0  8.61 Lakh   4.50  \n",
       "3  88.76 bhp    7.0        NaN   6.00  \n",
       "4  140.8 bhp    5.0        NaN  17.74  "
      ]
     },
     "execution_count": 3,
     "metadata": {},
     "output_type": "execute_result"
    }
   ],
   "source": [
    "df.head()"
   ]
  },
  {
   "cell_type": "markdown",
   "id": "5d40c800",
   "metadata": {},
   "source": [
    "_**Dropping the `Unnamed: 0`, `Location` and `New_Price` column since it is not much important for the prediction**_"
   ]
  },
  {
   "cell_type": "code",
   "execution_count": 4,
   "id": "de124f56",
   "metadata": {},
   "outputs": [],
   "source": [
    "df.drop(['Unnamed: 0','Location','New_Price'],axis = 1,inplace = True)"
   ]
  },
  {
   "cell_type": "markdown",
   "id": "8d9611dc",
   "metadata": {},
   "source": [
    "_**Checking for the null values in the dataset**_"
   ]
  },
  {
   "cell_type": "code",
   "execution_count": 5,
   "id": "cf687f05",
   "metadata": {},
   "outputs": [
    {
     "data": {
      "text/plain": [
       "Name                  0\n",
       "Year                  0\n",
       "Kilometers_Driven     0\n",
       "Fuel_Type             0\n",
       "Transmission          0\n",
       "Owner_Type            0\n",
       "Mileage               2\n",
       "Engine               36\n",
       "Power                36\n",
       "Seats                42\n",
       "Price                 0\n",
       "dtype: int64"
      ]
     },
     "execution_count": 5,
     "metadata": {},
     "output_type": "execute_result"
    }
   ],
   "source": [
    "df.isna().sum()"
   ]
  },
  {
   "cell_type": "markdown",
   "id": "16db5bdd",
   "metadata": {},
   "source": [
    "_**There are several cars in the dataset, some of them with a count higher than 1. Sometimes the resale value of a car also depends on manufacturer of the car.So, here extracting the manufacturer name from this column and adding it to the dataset**_"
   ]
  },
  {
   "cell_type": "code",
   "execution_count": 6,
   "id": "dfe7afcf",
   "metadata": {},
   "outputs": [],
   "source": [
    "Manfacturer = df['Name'].str.split(\" \",expand = True)\n",
    "df['Manfacturer'] = Manfacturer[0]"
   ]
  },
  {
   "cell_type": "markdown",
   "id": "77ec86ee",
   "metadata": {},
   "source": [
    "_**The `Year` column from the dataset has no significance on its own so calculating the years of cars used till now and adding it to the dataset.**_"
   ]
  },
  {
   "cell_type": "code",
   "execution_count": 7,
   "id": "daad9355",
   "metadata": {},
   "outputs": [],
   "source": [
    "curr_time = datetime.datetime.now()\n",
    "df['Years Used'] = df['Year'].apply(lambda x : curr_time.year - x)"
   ]
  },
  {
   "cell_type": "markdown",
   "id": "1f637ea6",
   "metadata": {},
   "source": [
    "_**Dropping the `Name` and `Year` column since the needed data is extracted from it and added to the dataset in seperate columns as `Manfacturer` and `Years Used`**_"
   ]
  },
  {
   "cell_type": "code",
   "execution_count": 8,
   "id": "52f7584f",
   "metadata": {},
   "outputs": [],
   "source": [
    "df.drop(['Name','Year'],axis = 1,inplace = True)"
   ]
  },
  {
   "cell_type": "markdown",
   "id": "3969204c",
   "metadata": {},
   "source": [
    "_**The `Mileage` column defines the mileage of the car which affects the price of the car during the sales.So that extracting the numerical values from the `Mileage` column and since it has missing values, filling out the missing values with the mean & modifying the column with the values**_"
   ]
  },
  {
   "cell_type": "code",
   "execution_count": 9,
   "id": "c920e15d",
   "metadata": {},
   "outputs": [],
   "source": [
    "Mileage = df['Mileage'].str.split(\" \",expand = True)\n",
    "df['Mileage'] = pd.to_numeric(Mileage[0],errors = 'coerce')\n",
    "df['Mileage'].fillna(df['Mileage'].astype('float').mean(),inplace = True)"
   ]
  },
  {
   "cell_type": "markdown",
   "id": "cc5d9f00",
   "metadata": {},
   "source": [
    "_**The `Engine` column has the CC of the car which affects the price of the car during the sales.So that removing CC and  extracting the numerical values from the `Engine` column and since it has missing values, filling out the missing values with the mean & modifying the column with the values**_"
   ]
  },
  {
   "cell_type": "code",
   "execution_count": 10,
   "id": "257dc749",
   "metadata": {},
   "outputs": [],
   "source": [
    "Engine = df['Engine'].str.split(\" \",expand = True)\n",
    "df['Engine'] = pd.to_numeric(Engine[0],errors = 'coerce')\n",
    "df['Engine'].fillna(df['Engine'].astype('float').mean(),inplace = True)"
   ]
  },
  {
   "cell_type": "markdown",
   "id": "af198ed9",
   "metadata": {},
   "source": [
    "_**The `Power` column has the bhp of the car which affects the price of the car during the sales.So that removing bhp and  extracting the numerical values from the `Power` column and since it has missing values, filling out the missing values with the mean & modifying the column with the values**_"
   ]
  },
  {
   "cell_type": "code",
   "execution_count": 11,
   "id": "0fdb3a66",
   "metadata": {},
   "outputs": [],
   "source": [
    "Power = df['Power'].str.split(\" \",expand = True)\n",
    "df['Power'] = pd.to_numeric(Power[0],errors = 'coerce')\n",
    "df['Power'].fillna(df['Power'].astype('float').mean(),inplace = True)"
   ]
  },
  {
   "cell_type": "markdown",
   "id": "29338dbb",
   "metadata": {},
   "source": [
    "_**Since the `Seats` column has some missing values, filling out the missing values with the mean values of the same column**_"
   ]
  },
  {
   "cell_type": "code",
   "execution_count": 12,
   "id": "ccfd817a",
   "metadata": {
    "scrolled": true
   },
   "outputs": [],
   "source": [
    "df['Seats'].fillna(df['Seats'].astype('float').mean(),inplace = True)"
   ]
  },
  {
   "cell_type": "markdown",
   "id": "ccb19d82",
   "metadata": {},
   "source": [
    "_**After filling out the missing value with the appropriate values, checking for the null values in the dataset**_"
   ]
  },
  {
   "cell_type": "code",
   "execution_count": 13,
   "id": "a8056ed1",
   "metadata": {},
   "outputs": [
    {
     "data": {
      "text/plain": [
       "Kilometers_Driven    0\n",
       "Fuel_Type            0\n",
       "Transmission         0\n",
       "Owner_Type           0\n",
       "Mileage              0\n",
       "Engine               0\n",
       "Power                0\n",
       "Seats                0\n",
       "Price                0\n",
       "Manfacturer          0\n",
       "Years Used           0\n",
       "dtype: int64"
      ]
     },
     "execution_count": 13,
     "metadata": {},
     "output_type": "execute_result"
    }
   ],
   "source": [
    "df.isna().sum()"
   ]
  },
  {
   "cell_type": "markdown",
   "id": "2fb9706b",
   "metadata": {},
   "source": [
    "## Data Visualization"
   ]
  },
  {
   "cell_type": "markdown",
   "id": "aa79751a",
   "metadata": {},
   "source": [
    "_**Plotting the Bar Graph with count of cars based on the `Manfacturer` and confirm that there are no null values and identify all unique values from the `Manfacturer` and saving the PNG File**_"
   ]
  },
  {
   "cell_type": "code",
   "execution_count": 14,
   "id": "b8362c10",
   "metadata": {},
   "outputs": [
    {
     "data": {
      "image/png": "[encoded data removed]",
      "text/plain": [
       "<Figure size 2000x1000 with 1 Axes>"
      ]
     },
     "metadata": {},
     "output_type": "display_data"
    }
   ],
   "source": [
    "plt.rcParams['figure.figsize'] = 20,10\n",
    "Cars = df['Manfacturer'].value_counts()\n",
    "plot = sns.barplot(x = Cars.index,y = Cars.values,data = df)\n",
    "plt.xticks(rotation = 90)\n",
    "for p in plot.patches:\n",
    "    plot.annotate(p.get_height(),(p.get_x() + p.get_width() / 2.0,p.get_height()),\n",
    "                 ha = 'center',va = 'center',xytext = (0,5),textcoords = 'offset points')\n",
    "plt.title('Count of Car based on Manfacturer')\n",
    "plt.xlabel('Manfacturer')\n",
    "plt.ylabel('Count of Cars')\n",
    "plt.savefig('Count of Cars.png')\n",
    "plt.show()"
   ]
  },
  {
   "cell_type": "markdown",
   "id": "4aab3069",
   "metadata": {},
   "source": [
    "_**Getting the Correlation Values from all the numeric columns from the dataset using Seaborn Heatmap & saving the PNG File**_"
   ]
  },
  {
   "cell_type": "code",
   "execution_count": 15,
   "id": "9892b5f9",
   "metadata": {
    "scrolled": true
   },
   "outputs": [
    {
     "data": {
      "image/png": "[encoded data removed]",
      "text/plain": [
       "<Figure size 2000x1000 with 2 Axes>"
      ]
     },
     "metadata": {},
     "output_type": "display_data"
    }
   ],
   "source": [
    "sns.heatmap(df.corr(),cmap = sns.cubehelix_palette(as_cmap = True),annot = True, cbar = True,square = True)\n",
    "plt.title('Correlation Heat Map')\n",
    "plt.savefig('Correlation Heat Map.png')\n",
    "plt.show()"
   ]
  },
  {
   "cell_type": "markdown",
   "id": "68198cb2",
   "metadata": {},
   "source": [
    "_**Assigning the dependent and independent variable**_"
   ]
  },
  {
   "cell_type": "code",
   "execution_count": 16,
   "id": "a4b4322b",
   "metadata": {},
   "outputs": [],
   "source": [
    "x = df.drop(['Price'],axis = 1)\n",
    "y = df['Price']"
   ]
  },
  {
   "cell_type": "markdown",
   "id": "22d9cd07",
   "metadata": {},
   "source": [
    "## Data Preprocessing"
   ]
  },
  {
   "cell_type": "markdown",
   "id": "8446c009",
   "metadata": {},
   "source": [
    "_**Splitting the dependent variable & independent variable into training and test dataset using train test split**_"
   ]
  },
  {
   "cell_type": "code",
   "execution_count": 17,
   "id": "a00747a7",
   "metadata": {},
   "outputs": [],
   "source": [
    "x_train,x_test,y_train,y_test = train_test_split(x,y,test_size = 0.3,random_state = 45)"
   ]
  },
  {
   "cell_type": "markdown",
   "id": "ef068198",
   "metadata": {},
   "source": [
    "_**Creating the dummy columns for all the categorical columns such as `Manfacturer`, `Fuel_Type`,\n",
    "`Transmission`, `Owner_Type` in the training independent dataset and getting the dimensions of the training independent dataset for cross-check**_"
   ]
  },
  {
   "cell_type": "code",
   "execution_count": 18,
   "id": "6836a644",
   "metadata": {},
   "outputs": [
    {
     "name": "stdout",
     "output_type": "stream",
     "text": [
      "(4213, 42)\n"
     ]
    }
   ],
   "source": [
    "x_train = pd.get_dummies(x_train,columns = ['Manfacturer', 'Fuel_Type', 'Transmission', 'Owner_Type'],drop_first = True)\n",
    "print(x_train.shape)"
   ]
  },
  {
   "cell_type": "markdown",
   "id": "2faf3b6f",
   "metadata": {},
   "source": [
    "_**Similarly, creating the dummy columns for all the categorical columns such as `Manfacturer`, `Fuel_Type`,\n",
    "`Transmission`, `Owner_Type` in the test independent dataset and getting the dimensions of the test independent dataset for cross-check**_"
   ]
  },
  {
   "cell_type": "code",
   "execution_count": 19,
   "id": "61230d8f",
   "metadata": {},
   "outputs": [
    {
     "name": "stdout",
     "output_type": "stream",
     "text": [
      "(1806, 38)\n"
     ]
    }
   ],
   "source": [
    "x_test = pd.get_dummies(x_test,columns = ['Manfacturer', 'Fuel_Type', 'Transmission', 'Owner_Type'],drop_first = True)\n",
    "print(x_test.shape)"
   ]
  },
  {
   "cell_type": "markdown",
   "id": "c6518305",
   "metadata": {},
   "source": [
    "_**By the dimensional checking its so evident that the dummy column creation is different in training and test independent data. So that filling in all the missing columns of test independent data with 0**_"
   ]
  },
  {
   "cell_type": "code",
   "execution_count": 20,
   "id": "f5aadeff",
   "metadata": {},
   "outputs": [],
   "source": [
    "miss_col = set(x_train.columns) - set(x_test.columns)\n",
    "for col in miss_col:\n",
    "    x_test[col] = 0\n",
    "x_test = x_test[x_train.columns]"
   ]
  },
  {
   "cell_type": "markdown",
   "id": "974d1a51",
   "metadata": {},
   "source": [
    "_**Now after processing, the dimensions of the column of both training and test independent data are same**_"
   ]
  },
  {
   "cell_type": "code",
   "execution_count": 21,
   "id": "d8612936",
   "metadata": {},
   "outputs": [
    {
     "name": "stdout",
     "output_type": "stream",
     "text": [
      "(4213, 42)\n",
      "(1806, 42)\n"
     ]
    }
   ],
   "source": [
    "print(x_train.shape)\n",
    "print(x_test.shape)"
   ]
  },
  {
   "cell_type": "markdown",
   "id": "fdaacb53",
   "metadata": {},
   "source": [
    "_**Standardizing the independent training variable and independent test variable of the dataset**_"
   ]
  },
  {
   "cell_type": "code",
   "execution_count": 22,
   "id": "f77d7d84",
   "metadata": {},
   "outputs": [],
   "source": [
    "sc = StandardScaler()\n",
    "x_train = sc.fit_transform(x_train)\n",
    "x_test = sc.fit_transform(x_test)"
   ]
  },
  {
   "cell_type": "markdown",
   "id": "1164609b",
   "metadata": {},
   "source": [
    "## Model Fitting"
   ]
  },
  {
   "cell_type": "markdown",
   "id": "3d85c3e0",
   "metadata": {},
   "source": [
    "_**Defining the Function for the ML algorithms using GridSearchCV Algorithm and Predicting the Dependent Variable by fitting the given model and create the pickle file of the model with the given Algo_name. Further getting the Algorithm Name, Best Parameters of the algorithm, R2 Score in percentage format, Mean Absolute error and Root Mean Squared error between the predicted values and dependent test dataset**_"
   ]
  },
  {
   "cell_type": "code",
   "execution_count": 23,
   "id": "bc8f34b0",
   "metadata": {},
   "outputs": [],
   "source": [
    "def FitModel(x,y,algo_name,algorithm,GridSearchParams,cv):\n",
    "    np.random.seed(10)\n",
    "    grid = GridSearchCV(estimator = algorithm, param_grid = GridSearchParams, cv = cv,\n",
    "                       scoring = 'r2', verbose = 0,n_jobs = -1)\n",
    "    grid_result = grid.fit(x_train,y_train)\n",
    "    pred = grid_result.predict(x_test)\n",
    "    best_params = grid_result.best_params_\n",
    "    pickle.dump(grid_result,open(algo_name,'wb'))\n",
    "    print('Algorithm Name : ',algo_name,'\\n')\n",
    "    print('Best Params : ',best_params,'\\n')\n",
    "    print('Percentage of R2 Score : {} %'.format(100 * r2_score(y_test,pred)),'\\n')\n",
    "    print('Mean Absolute Error : ',mean_absolute_error(y_test,pred),'\\n')\n",
    "    print('Root Mean Squared Error : ',sqrt(mean_squared_error(y_test,pred)),'\\n')"
   ]
  },
  {
   "cell_type": "markdown",
   "id": "ff05296d",
   "metadata": {},
   "source": [
    "_**Running the function with empty parameters since the Linear Regression model doesn't need any special parameters and fitting the Linear Regression Algorithm and getting the Algorithm Name, Best Parameters of the algorithm, R2 Score in percentage format ,Mean Absolute error and Root Mean Squared error between the predicted values and dependent test dataset and also the pickle file with the name Linear Regression.**_"
   ]
  },
  {
   "cell_type": "code",
   "execution_count": 24,
   "id": "8d58c0a9",
   "metadata": {},
   "outputs": [
    {
     "name": "stdout",
     "output_type": "stream",
     "text": [
      "Algorithm Name :  Linear Regression \n",
      "\n",
      "Best Params :  {} \n",
      "\n",
      "Percentage of R2 Score : 76.90457787320157 % \n",
      "\n",
      "Mean Absolute Error :  2.968897995521326 \n",
      "\n",
      "Root Mean Squared Error :  5.354109129131152 \n",
      "\n"
     ]
    }
   ],
   "source": [
    "param = {}\n",
    "FitModel(x,y,'Linear Regression',LinearRegression(),param,cv = 10)"
   ]
  },
  {
   "cell_type": "markdown",
   "id": "307bc9a9",
   "metadata": {},
   "source": [
    "_**Running the function with empty parameters since the Lasso model doesn't need any special parameters and fitting the Lasso Algorithm and getting the Algorithm Name, Best Parameters of the algorithm, R2 Score in percentage format ,Mean Absolute error and Root Mean Squared error between the predicted values and dependent test dataset and also the pickle file with the name Lasso.**_"
   ]
  },
  {
   "cell_type": "code",
   "execution_count": 25,
   "id": "571e5359",
   "metadata": {},
   "outputs": [
    {
     "name": "stdout",
     "output_type": "stream",
     "text": [
      "Algorithm Name :  Lasso \n",
      "\n",
      "Best Params :  {} \n",
      "\n",
      "Percentage of R2 Score : 72.26180392554386 % \n",
      "\n",
      "Mean Absolute Error :  3.3695924404312683 \n",
      "\n",
      "Root Mean Squared Error :  5.8676388243622 \n",
      "\n"
     ]
    }
   ],
   "source": [
    "FitModel(x,y,'Lasso',Lasso(),param,cv = 10)"
   ]
  },
  {
   "cell_type": "markdown",
   "id": "d8554cb2",
   "metadata": {},
   "source": [
    "_**Running the function with empty parameters since the Ridge model doesn't need any special parameters and fitting the Ridge Algorithm and getting the Algorithm Name, Best Parameters of the algorithm, R2 Score in percentage format ,Mean Absolute error and Root Mean Squared error between the predicted values and dependent test dataset and also the pickle file with the name Ridge.**_"
   ]
  },
  {
   "cell_type": "code",
   "execution_count": 26,
   "id": "443deae0",
   "metadata": {},
   "outputs": [
    {
     "name": "stdout",
     "output_type": "stream",
     "text": [
      "Algorithm Name :  Ridge \n",
      "\n",
      "Best Params :  {} \n",
      "\n",
      "Percentage of R2 Score : 76.56033098691182 % \n",
      "\n",
      "Mean Absolute Error :  2.9792346265440095 \n",
      "\n",
      "Root Mean Squared Error :  5.393864149105742 \n",
      "\n"
     ]
    }
   ],
   "source": [
    "FitModel(x,y,'Ridge',Ridge(),param,cv = 10)"
   ]
  },
  {
   "cell_type": "markdown",
   "id": "952c366c",
   "metadata": {},
   "source": [
    "_**Running the function with some appropriate parameters and fitting the Random Forest Regressor Algorithm and getting the Algorithm Name, Best Parameters of the algorithm, R2 Score in percentage format ,Mean Absolute error and Root Mean Squared error between the predicted values and dependent test dataset and also the pickle file with the name Random Forest.**_"
   ]
  },
  {
   "cell_type": "code",
   "execution_count": 27,
   "id": "75fb9ec4",
   "metadata": {},
   "outputs": [
    {
     "name": "stdout",
     "output_type": "stream",
     "text": [
      "Algorithm Name :  Random Forest \n",
      "\n",
      "Best Params :  {'n_estimators': 109, 'random_state': 45} \n",
      "\n",
      "Percentage of R2 Score : 89.16507697440488 % \n",
      "\n",
      "Mean Absolute Error :  1.8262045776492803 \n",
      "\n",
      "Root Mean Squared Error :  3.6672218349582346 \n",
      "\n"
     ]
    }
   ],
   "source": [
    "params = {'n_estimators' : [44,109,314],\n",
    "          'random_state' : [45]}\n",
    "FitModel(x,y,'Random Forest',RandomForestRegressor(),params,cv = 10)"
   ]
  },
  {
   "cell_type": "markdown",
   "id": "2b17aa8d",
   "metadata": {},
   "source": [
    "_**Running the function with some appropriate parameters and fitting the Extra Trees Regressor Algorithm and getting the Algorithm Name, Best Parameters of the algorithm, R2 Score in percentage format ,Mean Absolute error and Root Mean Squared error between the predicted values and dependent test dataset and also the pickle file with the name Extra Tree.**_"
   ]
  },
  {
   "cell_type": "code",
   "execution_count": 28,
   "id": "418929c6",
   "metadata": {},
   "outputs": [
    {
     "name": "stdout",
     "output_type": "stream",
     "text": [
      "Algorithm Name :  Extra Tree \n",
      "\n",
      "Best Params :  {'n_estimators': 109, 'random_state': 45} \n",
      "\n",
      "Percentage of R2 Score : 91.1328292802006 % \n",
      "\n",
      "Mean Absolute Error :  1.674786542310545 \n",
      "\n",
      "Root Mean Squared Error :  3.317544841014334 \n",
      "\n"
     ]
    }
   ],
   "source": [
    "FitModel(x,y,'Extra Tree',ExtraTreesRegressor(),params, cv = 10)"
   ]
  },
  {
   "cell_type": "markdown",
   "id": "2d442167",
   "metadata": {},
   "source": [
    "_**Running the function with some appropriate parameters and fitting the XG Boost Regressor Algorithm and getting the Algorithm Name, Best Parameters of the algorithm, R2 Score in percentage format ,Mean Absolute error and Root Mean Squared error between the predicted values and dependent test dataset and also the pickle file with the name XG Boost.**_"
   ]
  },
  {
   "cell_type": "code",
   "execution_count": 29,
   "id": "4b1a0fef",
   "metadata": {},
   "outputs": [
    {
     "name": "stdout",
     "output_type": "stream",
     "text": [
      "Algorithm Name :  XG Boost \n",
      "\n",
      "Best Params :  {'n_estimators': 44, 'random_state': 45} \n",
      "\n",
      "Percentage of R2 Score : 88.46083787618653 % \n",
      "\n",
      "Mean Absolute Error :  1.8590134571748451 \n",
      "\n",
      "Root Mean Squared Error :  3.78452522440903 \n",
      "\n"
     ]
    }
   ],
   "source": [
    "FitModel(x,y,'XG Boost',XGBRegressor(),params,cv = 10)"
   ]
  },
  {
   "cell_type": "markdown",
   "id": "98e4ef69",
   "metadata": {},
   "source": [
    "_**Running the function with some appropriate parameters and fitting the Cat Boost Regressor Algorithm and getting the Algorithm Name, Best Parameters of the algorithm, R2 Score in percentage format ,Mean Absolute error and Root Mean Squared error between the predicted values and dependent test dataset and also the pickle file with the name Cat Boost.**_"
   ]
  },
  {
   "cell_type": "code",
   "execution_count": 30,
   "id": "06b806d9",
   "metadata": {},
   "outputs": [
    {
     "name": "stdout",
     "output_type": "stream",
     "text": [
      "Algorithm Name :  Cat Boost \n",
      "\n",
      "Best Params :  {'verbose': 0} \n",
      "\n",
      "Percentage of R2 Score : 92.01917666078496 % \n",
      "\n",
      "Mean Absolute Error :  1.6498705851737538 \n",
      "\n",
      "Root Mean Squared Error :  3.1473722790664738 \n",
      "\n"
     ]
    }
   ],
   "source": [
    "params = {'verbose' : [0]}\n",
    "FitModel(x,y,'Cat Boost',CatBoostRegressor(),params, cv = 10)"
   ]
  },
  {
   "cell_type": "markdown",
   "id": "26ab4767",
   "metadata": {},
   "source": [
    "_**Running the function with empty parameters since the Light GBM model doesn't need any special parameters and fitting the Light GBM Algorithm and getting the Algorithm Name, Best Parameters of the algorithm, R2 Score in percentage format ,Mean Absolute error and Root Mean Squared error between the predicted values and dependent test dataset and also the pickle file with the name Light GBM.**_"
   ]
  },
  {
   "cell_type": "code",
   "execution_count": 31,
   "id": "e19b2568",
   "metadata": {},
   "outputs": [
    {
     "name": "stdout",
     "output_type": "stream",
     "text": [
      "Algorithm Name :  Light GBM \n",
      "\n",
      "Best Params :  {} \n",
      "\n",
      "Percentage of R2 Score : 88.81763190646117 % \n",
      "\n",
      "Mean Absolute Error :  1.8329374062863661 \n",
      "\n",
      "Root Mean Squared Error :  3.725556538837242 \n",
      "\n"
     ]
    }
   ],
   "source": [
    "FitModel(x,y,'Light GBM',LGBMRegressor(),param,cv = 10)"
   ]
  },
  {
   "cell_type": "markdown",
   "id": "09224d72",
   "metadata": {},
   "source": [
    "## Boosting the Model"
   ]
  },
  {
   "cell_type": "markdown",
   "id": "486392e5",
   "metadata": {},
   "source": [
    "_**Defining the Function for the ML algorithms using GridSearchCV Algorithm and boosting the model using AdaBoostRegressor Algorithm  and Predicting the Dependent Variable by fitting the given model and create the pickle file of the model with the given Algo_name. Further getting the Algorithm Name, R2 Score in percentage format, Mean Absolute error and Root Mean Squared error between the predicted values and dependent test dataset**_"
   ]
  },
  {
   "cell_type": "code",
   "execution_count": 32,
   "id": "1fbeeb2a",
   "metadata": {},
   "outputs": [],
   "source": [
    "def BoostModel(x,y,algo_name,algorithm,GridSearchParams,cv):\n",
    "    np.random.seed(10)\n",
    "    grid = GridSearchCV(estimator = algorithm, param_grid = GridSearchParams, cv = cv,\n",
    "                       scoring = 'r2', verbose = 0,n_jobs = -1)\n",
    "    grid_result = grid.fit(x_train,y_train)\n",
    "    AB = AdaBoostRegressor(base_estimator = grid_result,learning_rate = 1)\n",
    "    boostmodel = AB.fit(x_train,y_train)\n",
    "    pred = boostmodel.predict(x_test)\n",
    "    pickle.dump(boostmodel,open(algo_name,'wb'))\n",
    "    print('Algorithm Name : ',algo_name,'\\n')\n",
    "    print('Percentage of R2 Score : {} %'.format(100 * r2_score(y_test,pred)),'\\n')\n",
    "    print('Mean Absolute Error : ',mean_absolute_error(y_test,pred),'\\n')\n",
    "    print('Root Mean Squared Error : ',sqrt(mean_squared_error(y_test,pred)),'\\n')"
   ]
  },
  {
   "cell_type": "markdown",
   "id": "c2bf76e9",
   "metadata": {},
   "source": [
    "_**Running the function with empty parameters since the Linear Regression model doesn't need any special parameters and boosting the Linear Regression Algorithm and getting the Algorithm Name, R2 Score in percentage format ,Mean Absolute error and Root Mean Squared error between the predicted values and dependent test dataset and also the pickle file with the name  Boosted Linear Regression.**_"
   ]
  },
  {
   "cell_type": "code",
   "execution_count": 33,
   "id": "2ccbb8b4",
   "metadata": {},
   "outputs": [
    {
     "name": "stdout",
     "output_type": "stream",
     "text": [
      "Algorithm Name :  Boosted Linear Regression \n",
      "\n",
      "Percentage of R2 Score : -21.276385722418702 % \n",
      "\n",
      "Mean Absolute Error :  8.198366741775615 \n",
      "\n",
      "Root Mean Squared Error :  12.269091051103418 \n",
      "\n"
     ]
    }
   ],
   "source": [
    "param = {}\n",
    "BoostModel(x,y,'Boosted Linear Regression',LinearRegression(),param,cv = 10)"
   ]
  },
  {
   "cell_type": "markdown",
   "id": "4e99094d",
   "metadata": {},
   "source": [
    "_**Running the function with empty parameters since the Lasso model doesn't need any special parameters and boosting the Lasso Algorithm and getting the Algorithm Name, R2 Score in percentage format ,Mean Absolute error and Root Mean Squared error between the predicted values and dependent test dataset and also the pickle file with the name  Boosted Lasso.**_"
   ]
  },
  {
   "cell_type": "code",
   "execution_count": 34,
   "id": "34c708bf",
   "metadata": {},
   "outputs": [
    {
     "name": "stdout",
     "output_type": "stream",
     "text": [
      "Algorithm Name :  Boosted Lasso \n",
      "\n",
      "Percentage of R2 Score : 46.58821345889468 % \n",
      "\n",
      "Mean Absolute Error :  4.952642562366775 \n",
      "\n",
      "Root Mean Squared Error :  8.142219742812832 \n",
      "\n"
     ]
    }
   ],
   "source": [
    "BoostModel(x,y,'Boosted Lasso',Lasso(),param,cv = 10)"
   ]
  },
  {
   "cell_type": "markdown",
   "id": "6b3bb52a",
   "metadata": {},
   "source": [
    "_**Running the function with empty parameters since the Ridge model doesn't need any special parameters and boosting the Ridge Algorithm and getting the Algorithm Name, R2 Score in percentage format ,Mean Absolute error and Root Mean Squared error between the predicted values and dependent test dataset and also the pickle file with the name  Boosted Ridge.**_"
   ]
  },
  {
   "cell_type": "code",
   "execution_count": 35,
   "id": "702ae2ee",
   "metadata": {},
   "outputs": [
    {
     "name": "stdout",
     "output_type": "stream",
     "text": [
      "Algorithm Name :  Boosted Ridge \n",
      "\n",
      "Percentage of R2 Score : 64.36436199299811 % \n",
      "\n",
      "Mean Absolute Error :  3.680878182801986 \n",
      "\n",
      "Root Mean Squared Error :  6.650687409719254 \n",
      "\n"
     ]
    }
   ],
   "source": [
    "BoostModel(x,y,'Boosted Ridge',Ridge(),param,cv = 10)"
   ]
  },
  {
   "cell_type": "markdown",
   "id": "8d740b23",
   "metadata": {},
   "source": [
    "_**Running the function with some appropriate parameters and boosting the Random Forest Regressor Algorithm and getting the Algorithm Name, R2 Score in percentage format ,Mean Absolute error and Root Mean Squared error between the predicted values and dependent test dataset and also the pickle file with the name Boosted Random Forest.**_"
   ]
  },
  {
   "cell_type": "code",
   "execution_count": 36,
   "id": "b5ab7bf5",
   "metadata": {},
   "outputs": [
    {
     "name": "stdout",
     "output_type": "stream",
     "text": [
      "Algorithm Name :  Boosted Random Forest \n",
      "\n",
      "Percentage of R2 Score : 89.4899204020959 % \n",
      "\n",
      "Mean Absolute Error :  1.7843019054763463 \n",
      "\n",
      "Root Mean Squared Error :  3.6118297360855283 \n",
      "\n"
     ]
    }
   ],
   "source": [
    "params = {'n_estimators' : [44,109,314],\n",
    "          'random_state' : [45]}\n",
    "BoostModel(x,y,'Boosted Random Forest',RandomForestRegressor(),params,cv = 10)"
   ]
  },
  {
   "cell_type": "markdown",
   "id": "cd6dfe63",
   "metadata": {},
   "source": [
    "_**Running the function with some appropriate parameters and boosting the Extra Trees Regressor Algorithm and getting the Algorithm Name, R2 Score in percentage format ,Mean Absolute error and Root Mean Squared error between the predicted values and dependent test dataset and also the pickle file with the name Boosted Extra Tree.**_"
   ]
  },
  {
   "cell_type": "code",
   "execution_count": 37,
   "id": "237f76a6",
   "metadata": {},
   "outputs": [
    {
     "name": "stdout",
     "output_type": "stream",
     "text": [
      "Algorithm Name :  Boosted Extra Tree \n",
      "\n",
      "Percentage of R2 Score : 91.52357306619938 % \n",
      "\n",
      "Mean Absolute Error :  1.6537920177917995 \n",
      "\n",
      "Root Mean Squared Error :  3.243625291043197 \n",
      "\n"
     ]
    }
   ],
   "source": [
    "BoostModel(x,y,'Boosted Extra Tree',ExtraTreesRegressor(),params, cv = 10)"
   ]
  },
  {
   "cell_type": "markdown",
   "id": "1a85ed56",
   "metadata": {},
   "source": [
    "For, further predictions use the model with the highest r2 score and load the pickle file with the format as\n",
    "**<span style = \"color:red\"> pickle.load(open(algo_name,'rb'))   </span>**"
   ]
  }
 ],
 "metadata": {
  "kernelspec": {
   "display_name": "Python 3 (ipykernel)",
   "language": "python",
   "name": "python3"
  },
  "language_info": {
   "codemirror_mode": {
    "name": "ipython",
    "version": 3
   },
   "file_extension": ".py",
   "mimetype": "text/x-python",
   "name": "python",
   "nbconvert_exporter": "python",
   "pygments_lexer": "ipython3",
   "version": "3.9.13"
  }
 },
 "nbformat": 4,
 "nbformat_minor": 5
}
